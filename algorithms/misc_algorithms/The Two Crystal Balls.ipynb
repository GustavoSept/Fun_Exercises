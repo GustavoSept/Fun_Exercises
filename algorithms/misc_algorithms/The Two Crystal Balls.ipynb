{
 "cells": [
  {
   "cell_type": "markdown",
   "id": "cfd82640",
   "metadata": {},
   "source": [
    "# The Two Crystal Balls Problem\n",
    "## Problem Statement\n",
    "You have two identical crystal balls and a building with \"n\" floors. One of the floors in the building is the highest floor from which a ball can be dropped without breaking. You need to determine this floor using the fewest possible drops.\n",
    "\n",
    "## Rules\n",
    "\t• If a ball is dropped from a floor higher than the breaking point, it will break.\n",
    "\t• If a ball is dropped from a floor lower than or equal to the breaking point, it will not break."
   ]
  },
  {
   "cell_type": "markdown",
   "id": "1725cb93",
   "metadata": {},
   "source": [
    "### Generating the problem\n",
    "We can simplify this problem as just a List, with all positions set to False up to a Threshold point. Past this point, all positions are True. Each list position represents a \"building floor\"."
   ]
  },
  {
   "cell_type": "code",
   "execution_count": null,
   "id": "e2340ada",
   "metadata": {},
   "outputs": [],
   "source": [
    "import numpy as np\n",
    "import pandas as pd\n",
    "import seaborn as sns\n",
    "import logging\n",
    "import matplotlib.pyplot as plt"
   ]
  },
  {
   "cell_type": "code",
   "execution_count": null,
   "id": "b51e630b",
   "metadata": {},
   "outputs": [],
   "source": [
    "# Initialize logging\n",
    "logging.basicConfig(level=logging.CRITICAL)  # Change the level to control verbosity"
   ]
  },
  {
   "cell_type": "code",
   "execution_count": null,
   "id": "88122e25",
   "metadata": {},
   "outputs": [],
   "source": [
    "def genBuilding(maxFloors = 100):\n",
    "    threshold = np.random.randint(0, maxFloors + 1) #random position\n",
    "\n",
    "    # populating False values\n",
    "    building = [False] * maxFloors \n",
    "\n",
    "    # populating True values\n",
    "    for i in range(threshold, maxFloors): \n",
    "        building[i] = True\n",
    "\n",
    "    logging.info(f\"Threshold Value:{threshold}\")\n",
    "    return building"
   ]
  },
  {
   "cell_type": "markdown",
   "id": "087d2042",
   "metadata": {},
   "source": [
    "### Solving the problem naively\n",
    "What would be the simplest (and most inefficient) way of solving this problem? Doing a Linear Search. This doesn't take advantage that we have TWO balls to work with, and it's not that fast, it's O(N). We can do much better than that.\n",
    "\n",
    "We could use an algorithm similar to Binary Search.\n",
    "Sadly it has a flaw in it. Let's imagine the worst-case scenario:\n",
    "We throw our first ball from the mid-point, but we got unlucky and it unfortunately breaks in the first try. How could we proceed safely from this point on? We HAVE to search linearly.\n",
    "So worst-case is: O(2/N). For a big enough N, that's essentially still O(N).\n",
    "\n",
    "Again, it's not the best, but it gives us a base line to work with."
   ]
  },
  {
   "cell_type": "code",
   "execution_count": null,
   "id": "b1fb85dc",
   "metadata": {},
   "outputs": [],
   "source": [
    "def bSearch(building):\n",
    "    lowValue = 0\n",
    "    highValue = len(building) - 1\n",
    "    counter = 0\n",
    "    \n",
    "    while lowValue <= highValue:\n",
    "        mid = lowValue + (highValue - lowValue) // 2\n",
    "        logging.debug(\"mid: %s\", mid)\n",
    "        counter += 1\n",
    "        \n",
    "        if building[mid]:\n",
    "            logging.info(f'Oooh no, we exploded the first crystal at the {mid}th floor')            \n",
    "            highValue = mid\n",
    "            \n",
    "            #standard Linear Search\n",
    "            for j in range(lowValue, highValue, 1):\n",
    "                counter += 1             \n",
    "                if building[j]:\n",
    "                    logging.info(f\"The ball survived up to the {j-1}th floor\")\n",
    "                    return (counter)                \n",
    "\n",
    "            logging.warning(\"This building does not look to be built correctly\")\n",
    "            break\n",
    "\n",
    "        elif lowValue >= highValue:\n",
    "            logging.error(\"I don't think this ball is breakable with this building\")\n",
    "            break\n",
    "\n",
    "        logging.debug(f\"Ball didn't break from {mid}th floor!\")\n",
    "        lowValue = mid + 1\n",
    "\n",
    "    logging.info(\"We ended experiments.\")"
   ]
  },
  {
   "cell_type": "code",
   "execution_count": null,
   "id": "e20f1b7c",
   "metadata": {},
   "outputs": [],
   "source": [
    "print(\"We needed this amount of iterations:\",\n",
    "      bSearch(genBuilding(100)))"
   ]
  },
  {
   "cell_type": "markdown",
   "id": "2aa6520c",
   "metadata": {},
   "source": [
    "### A better solution\n",
    "What if we wanted a sub O(N) solution? Like a O(logN) algorithm. We can achieve that by using the power of square root.\n",
    "Instead of dividing the floors in half each time, we can test increments of size sqrt(N), and when the first ball breaks, we do a linear search on the remainder.\n",
    "\n",
    "#### Worst-case Scenario\n",
    "What if the ball breaks at the very last floor? (Or at least very close to it) In a 100 story building, we'd have to test 10 times, break the first ball, then do up to 10 iterations to learn that only the last floor breaks the balls. That's equivalent to 10 + 10 iterations, or sqrt(100) + sqrt(100) or 2 * sqrt(100).\n",
    "\n",
    "For very large buildings, that will be a markedly better algorithm than the bSearch we've done, scaling on O(logN) [since we can ignore the constant '2', on very large N]"
   ]
  },
  {
   "cell_type": "code",
   "execution_count": null,
   "id": "9d3db9d5",
   "metadata": {},
   "outputs": [],
   "source": [
    "def logSearch(building):\n",
    "    stepSize = int(np.sqrt(len(building)))\n",
    "    highValue = len(building) - 1\n",
    "    counter = 0\n",
    "    \n",
    "    for i in range(1,stepSize):\n",
    "        counter += 1\n",
    "        if building[stepSize*i]:\n",
    "            logging.info(f'Oooh no, we exploded the first crystal at the {stepSize*i}th floor')   \n",
    "            lastSpot = stepSize*(i-1)\n",
    "            \n",
    "            # Standard Linear Search\n",
    "            for j in range(lastSpot, highValue, 1):\n",
    "                counter += 1\n",
    "                if building[j]:\n",
    "                    logging.info(f\"The ball survived up to the {j-1}th floor\")\n",
    "                    return (counter)\n",
    "            logging.warning(\"This building does not look to be built correctly\")\n",
    "            break\n",
    "            \n",
    "        logging.debug(f\"Ball didn't break from {stepSize*i}th floor!\")\n",
    "    logging.info(\"We ended experiments.\")"
   ]
  },
  {
   "cell_type": "code",
   "execution_count": null,
   "id": "24c6eca1",
   "metadata": {},
   "outputs": [],
   "source": [
    "print(\"We needed this amount of iterations:\",\n",
    "      logSearch(genBuilding(100)))"
   ]
  },
  {
   "cell_type": "markdown",
   "id": "1f067932",
   "metadata": {},
   "source": [
    "## Let's crunch some numbers\n",
    "Let's observe how both algorithms behave with buildings of vastly different scales.\n",
    "We'll plot how many iterations it takes for each algorithm to solve this problem at different N."
   ]
  },
  {
   "cell_type": "code",
   "execution_count": null,
   "id": "436bd8c6",
   "metadata": {},
   "outputs": [],
   "source": [
    "def plot_iterations(bSearch_iterations, logSearch_iterations, window_size=100):\n",
    "    df = pd.DataFrame({\n",
    "        'N': np.arange(len(bSearch_iterations)),\n",
    "        'bSearch_iterations': bSearch_iterations,\n",
    "        'logSearch_iterations': logSearch_iterations\n",
    "    })\n",
    "\n",
    "    # Compute moving averages\n",
    "    df['bSearch_moving_avg'] = df['bSearch_iterations'].rolling(window=window_size).mean()\n",
    "    df['logSearch_moving_avg'] = df['logSearch_iterations'].rolling(window=window_size).mean()\n",
    "\n",
    "    # Create the plots\n",
    "    plt.figure(figsize=(18, 8))\n",
    "    sns.lineplot(x='N', y='bSearch_iterations', data=df, label='bSearch_iterations', alpha = 0.2)\n",
    "    sns.lineplot(x='N', y='logSearch_iterations', data=df, label='logSearch_iterations', alpha = 0.2)\n",
    "\n",
    "    # Add moving averages to the plot\n",
    "    sns.lineplot(x='N', y='bSearch_moving_avg', data=df, label=f'bSearch {window_size}-point MA')\n",
    "    sns.lineplot(x='N', y='logSearch_moving_avg', data=df, label=f'logSearch {window_size}-point MA')\n",
    "    \n",
    "    plt.legend()\n",
    "    plt.xlabel(\"N (Size of the building)\")\n",
    "    plt.ylabel(\"Number of iterations\")\n",
    "    plt.title(\"Comparison of Iterations Between bSearch and logSearch\")\n",
    "    plt.show()\n",
    "\n",
    "# Generate data\n",
    "bSearch_iterations = []\n",
    "logSearch_iterations = []\n",
    "N_values = np.arange(150, 500000, 500)\n",
    "\n",
    "for N in N_values:\n",
    "    building = genBuilding(maxFloors=N)\n",
    "    bSearch_iterations.append(bSearch(building))\n",
    "    logSearch_iterations.append(logSearch(building))\n",
    "\n",
    "# plot_iterations(bSearch_iterations, logSearch_iterations, 100) # To avoid commit pollution, I've removed the plot render. You can take a loot at it at: https://i.imgur.com/ZyL8xWN.png"
   ]
  },
  {
   "cell_type": "code",
   "execution_count": null,
   "id": "225014a0",
   "metadata": {},
   "outputs": [],
   "source": [
    "# Generate data\n",
    "bSearch_iterations = []\n",
    "logSearch_iterations = []\n",
    "N_values = np.arange(1, 100, 1)\n",
    "\n",
    "for N in N_values:\n",
    "    building = genBuilding(maxFloors=N)\n",
    "    bSearch_iterations.append(bSearch(building))\n",
    "    logSearch_iterations.append(logSearch(building))\n",
    "\n",
    "# plot_iterations(bSearch_iterations, logSearch_iterations, 1) # To avoid commit pollution, I've removed the plot render. You can take a loot at it at: https://i.imgur.com/fRlinNp.png"
   ]
  },
  {
   "cell_type": "markdown",
   "id": "105c2957",
   "metadata": {},
   "source": [
    "As you can see, for big buildings, logSearch is much better than bSearch.\n",
    "\n",
    "For small buildings, in some instances bSearch can be marginally better."
   ]
  },
  {
   "cell_type": "code",
   "execution_count": null,
   "id": "6f6260d6",
   "metadata": {},
   "outputs": [],
   "source": []
  }
 ],
 "metadata": {
  "kernelspec": {
   "display_name": "Python 3 (ipykernel)",
   "language": "python",
   "name": "python3"
  },
  "language_info": {
   "codemirror_mode": {
    "name": "ipython",
    "version": 3
   },
   "file_extension": ".py",
   "mimetype": "text/x-python",
   "name": "python",
   "nbconvert_exporter": "python",
   "pygments_lexer": "ipython3",
   "version": "3.11.6"
  }
 },
 "nbformat": 4,
 "nbformat_minor": 5
}
